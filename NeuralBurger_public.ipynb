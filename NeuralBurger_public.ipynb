{
  "nbformat": 4,
  "nbformat_minor": 0,
  "metadata": {
    "accelerator": "GPU",
    "colab": {
      "name": "NeuralBurger_public.ipynb",
      "provenance": [],
      "collapsed_sections": [],
      "include_colab_link": true
    },
    "kernelspec": {
      "name": "python3",
      "display_name": "Python 3"
    },
    "language_info": {
      "codemirror_mode": {
        "name": "ipython",
        "version": 3
      },
      "file_extension": ".py",
      "mimetype": "text/x-python",
      "name": "python",
      "nbconvert_exporter": "python",
      "pygments_lexer": "ipython3",
      "version": "3.7.4"
    }
  },
  "cells": [
    {
      "cell_type": "markdown",
      "metadata": {
        "id": "view-in-github",
        "colab_type": "text"
      },
      "source": [
        "<a href=\"https://colab.research.google.com/github/Nejel/neuralburger/blob/master/NeuralBurger_public.ipynb\" target=\"_parent\"><img src=\"https://colab.research.google.com/assets/colab-badge.svg\" alt=\"Open In Colab\"/></a>"
      ]
    },
    {
      "cell_type": "markdown",
      "metadata": {
        "colab_type": "text",
        "id": "ovpZyIhNIgoq"
      },
      "source": [
        "# Генерируем нейробугурты на рекуррентных нейронных сетях"
      ]
    },
    {
      "cell_type": "markdown",
      "metadata": {
        "colab_type": "text",
        "id": "BwpJ5IffzRG6"
      },
      "source": [
        "Этот туториал демонстрирует генерацию текста на примере постов из паблика \"Бугурт-Тред\" во Вконтакте. История постов паблика используется как исходный корпус текстов для тренировки.\n",
        "\n",
        "Тексты имеют следующий вид: \n",
        "\n",
        "<pre>\n",
        "СЕТАП\n",
        "@ \n",
        "РАЗВИТИЕ \n",
        "@\n",
        "ПАНЧЛАЙН\n",
        "</pre>\n",
        "\n",
        "\n",
        "Модель тренируется на предсказание следующего символа (буквы или пробела) в последовательностях из 200 символов. Более длинные последовательности символов генерируются повторным вызовом модели. \n",
        "\n",
        "Этот туториал основан на туториале RNN text generation от Google. Ссылки на оригинальный тоториал:"
      ]
    },
    {
      "cell_type": "markdown",
      "metadata": {
        "colab_type": "text",
        "id": "hcD2nPQvPOFM"
      },
      "source": [
        "<table class=\"tfo-notebook-buttons\" align=\"left\">\n",
        "  <td>\n",
        "    <a target=\"_blank\" href=\"https://www.tensorflow.org/tutorials/text/text_generation\"><img src=\"https://www.tensorflow.org/images/tf_logo_32px.png\" />Оригинальный туториал от Google на сайте TensorFlow.org</a>\n",
        "  </td>\n",
        "  <td>\n",
        "    <a target=\"_blank\" href=\"https://colab.research.google.com/github/tensorflow/docs/blob/master/site/en/tutorials/text/text_generation.ipynb\"><img src=\"https://www.tensorflow.org/images/colab_logo_32px.png\" />Он же в Google Colab</a>\n",
        "  </td>\n",
        "  <td>\n",
        "    <a target=\"_blank\" href=\"https://github.com/tensorflow/docs/blob/master/site/en/tutorials/text/text_generation.ipynb\"><img src=\"https://www.tensorflow.org/images/GitHub-Mark-32px.png\" />Он же на GitHub</a>\n",
        "  </td>\n",
        "  <td>\n",
        "    <a href=\"https://storage.googleapis.com/tensorflow_docs/docs/site/en/tutorials/text/text_generation.ipynb\"><img src=\"https://www.tensorflow.org/images/download_logo_32px.png\" />Скачать ipynb</a>\n",
        "  </td>\n",
        "</table>"
      ]
    },
    {
      "cell_type": "markdown",
      "metadata": {
        "id": "KIuxlw1PyLnW",
        "colab_type": "text"
      },
      "source": [
        "\n",
        "\n",
        "While some of the sentences are grammatical, most do not make sense. The model has not learned the meaning of words, but consider:\n",
        "\n",
        "* The model is character-based. When training started, the model did not know how to spell an English word, or that words were even a unit of text.\n",
        "\n",
        "* The structure of the output resembles a play—blocks of text generally begin with a speaker name, in all capital letters similar to the dataset.\n",
        "\n",
        "* As demonstrated below, the model is trained on small batches of text (100 characters each), and is still able to generate a longer sequence of text with coherent structure.\n"
      ]
    },
    {
      "cell_type": "markdown",
      "metadata": {
        "colab_type": "text",
        "id": "srXC6pLGLwS6"
      },
      "source": [
        "## Setup"
      ]
    },
    {
      "cell_type": "markdown",
      "metadata": {
        "colab_type": "text",
        "id": "WGyKZj3bzf9p"
      },
      "source": [
        "### Import TensorFlow and other libraries"
      ]
    },
    {
      "cell_type": "code",
      "metadata": {
        "colab_type": "code",
        "id": "yG_n40gFzf9s",
        "colab": {}
      },
      "source": [
        "import tensorflow as tf\n",
        "import numpy as np\n",
        "import os\n",
        "import time"
      ],
      "execution_count": 0,
      "outputs": []
    },
    {
      "cell_type": "markdown",
      "metadata": {
        "colab_type": "text",
        "id": "EHDoRoc5PKWz"
      },
      "source": [
        "### Загрузим исходный файл с данными для обучения\n"
      ]
    },
    {
      "cell_type": "code",
      "metadata": {
        "id": "bhLwZpAZyXdg",
        "colab_type": "code",
        "colab": {}
      },
      "source": [
        "# Для удобства я загрузил датасет с бугуртами на Гитхаб и обращаюсь к нему через raw.githubusercontent\n",
        "path_to_file = tf.keras.utils.get_file('BT.txt', 'https://raw.githubusercontent.com/Nejel/datasets/master/BT.txt') "
      ],
      "execution_count": 0,
      "outputs": []
    },
    {
      "cell_type": "markdown",
      "metadata": {
        "colab_type": "text",
        "id": "UHjdCjDuSvX_"
      },
      "source": [
        "### Чтение данных"
      ]
    },
    {
      "cell_type": "code",
      "metadata": {
        "colab_type": "code",
        "id": "aavnuByVymwK",
        "outputId": "0f5a3257-5368-4688-bbbe-00b67c99cd6a",
        "colab": {
          "base_uri": "https://localhost:8080/",
          "height": 34
        }
      },
      "source": [
        "text = open(path_to_file, 'rb').read().decode(encoding='utf-8')\n",
        "\n",
        "# length of text is the number of characters in it\n",
        "print ('Length of text: {} characters'.format(len(text)))"
      ],
      "execution_count": 7,
      "outputs": [
        {
          "output_type": "stream",
          "text": [
            "Length of text: 3160845 characters\n"
          ],
          "name": "stdout"
        }
      ]
    },
    {
      "cell_type": "code",
      "metadata": {
        "colab_type": "code",
        "id": "Duhg9NrUymwO",
        "outputId": "92833260-109e-45a0-b8eb-5cf15a0efbc0",
        "colab": {
          "base_uri": "https://localhost:8080/",
          "height": 204
        }
      },
      "source": [
        "#Make burgers at their normal form\n",
        "import re\n",
        "text = re.sub(r\"\\n@  |\\n@ \", r\"@\\n\\r\", text)\n",
        "\n",
        "# Take a look at the first 250 characters in text\n",
        "print(text[:250])"
      ],
      "execution_count": 8,
      "outputs": [
        {
          "output_type": "stream",
          "text": [
            "ПЛАНИРУЕТЕ СТОЛ НА НГ \r\n",
            "\r@\n",
            "\rНЕТ ТЫ ЧТО, ЭТОГО МАЛО БУДЕТ, ДАВАЙ ЕЩЕ САЛАТОВ И ГОРЯЧЕГО \r\n",
            "\r@\n",
            "\r2 ЯНВАРЯ \r\n",
            "\r@\n",
            "\rВЕСЬ СТОЛ СТОИТ ПРАКТИЧЕСКИ ЦЕЛЫЙ, СЪЕДЕНО ОТ СИЛЫ ДВА САЛАТА И ТРЕТЬ ГОРЯЧЕГО \r\n",
            "\r@\n",
            "\r3 ЯНВАРЯ \r\n",
            "\r@\n",
            "\rКАЖЕТСЯ У ПОМОЙНЫХ КОТОВ СЕГОДНЯ БУДЕТ ПИР\n"
          ],
          "name": "stdout"
        }
      ]
    },
    {
      "cell_type": "code",
      "metadata": {
        "colab_type": "code",
        "id": "IlCgQBRVymwR",
        "outputId": "b1073189-a28d-4c60-ee88-237ae030f031",
        "colab": {
          "base_uri": "https://localhost:8080/",
          "height": 34
        }
      },
      "source": [
        "# The unique characters in the file\n",
        "vocab = sorted(set(text))\n",
        "print ('{} unique characters'.format(len(vocab)))"
      ],
      "execution_count": 9,
      "outputs": [
        {
          "output_type": "stream",
          "text": [
            "391 unique characters\n"
          ],
          "name": "stdout"
        }
      ]
    },
    {
      "cell_type": "markdown",
      "metadata": {
        "colab_type": "text",
        "id": "rNnrKn_lL-IJ"
      },
      "source": [
        "## Process the text"
      ]
    },
    {
      "cell_type": "markdown",
      "metadata": {
        "colab_type": "text",
        "id": "LFjSVAlWzf-N"
      },
      "source": [
        "### Vectorize the text\n",
        "\n",
        "Before training, we need to map strings to a numerical representation. Create two lookup tables: one mapping characters to numbers, and another for numbers to characters."
      ]
    },
    {
      "cell_type": "code",
      "metadata": {
        "colab_type": "code",
        "id": "IalZLbvOzf-F",
        "colab": {}
      },
      "source": [
        "# Creating a mapping from unique characters to indices\n",
        "char2idx = {u:i for i, u in enumerate(vocab)}\n",
        "idx2char = np.array(vocab)\n",
        "\n",
        "text_as_int = np.array([char2idx[c] for c in text])"
      ],
      "execution_count": 0,
      "outputs": []
    },
    {
      "cell_type": "markdown",
      "metadata": {
        "colab_type": "text",
        "id": "tZfqhkYCymwX"
      },
      "source": [
        "Now we have an integer representation for each character. Notice that we mapped the character as indexes from 0 to `len(unique)`."
      ]
    },
    {
      "cell_type": "code",
      "metadata": {
        "colab_type": "code",
        "id": "FYyNlCNXymwY",
        "outputId": "f2c24262-0a8b-45e3-c49b-3afbd59008e6",
        "colab": {
          "base_uri": "https://localhost:8080/",
          "height": 408
        }
      },
      "source": [
        "print('{')\n",
        "for char,_ in zip(char2idx, range(20)):\n",
        "    print('  {:4s}: {:3d},'.format(repr(char), char2idx[char]))\n",
        "print('  ...\\n}')"
      ],
      "execution_count": 11,
      "outputs": [
        {
          "output_type": "stream",
          "text": [
            "{\n",
            "  '\\n':   0,\n",
            "  '\\r':   1,\n",
            "  ' ' :   2,\n",
            "  '!' :   3,\n",
            "  '\"' :   4,\n",
            "  '#' :   5,\n",
            "  '$' :   6,\n",
            "  '%' :   7,\n",
            "  '&' :   8,\n",
            "  \"'\" :   9,\n",
            "  '(' :  10,\n",
            "  ')' :  11,\n",
            "  '*' :  12,\n",
            "  '+' :  13,\n",
            "  ',' :  14,\n",
            "  '-' :  15,\n",
            "  '.' :  16,\n",
            "  '/' :  17,\n",
            "  '0' :  18,\n",
            "  '1' :  19,\n",
            "  ...\n",
            "}\n"
          ],
          "name": "stdout"
        }
      ]
    },
    {
      "cell_type": "code",
      "metadata": {
        "colab_type": "code",
        "id": "l1VKcQHcymwb",
        "outputId": "00b37306-0a9a-4904-b5e2-aaff04aba954",
        "colab": {
          "base_uri": "https://localhost:8080/",
          "height": 34
        }
      },
      "source": [
        "# Show how the first 13 characters from the text are mapped to integers\n",
        "print ('{} ---- characters mapped to int ---- > {}'.format(repr(text[:13]), text_as_int[:13]))"
      ],
      "execution_count": 12,
      "outputs": [
        {
          "output_type": "stream",
          "text": [
            "'ПЛАНИРУЕТЕ СТ' ---- characters mapped to int ---- > [161 157 146 159 154 162 165 151 164 151   2 163 164]\n"
          ],
          "name": "stdout"
        }
      ]
    },
    {
      "cell_type": "markdown",
      "metadata": {
        "colab_type": "text",
        "id": "bbmsf23Bymwe"
      },
      "source": [
        "### Задача предсказания следующего символа"
      ]
    },
    {
      "cell_type": "markdown",
      "metadata": {
        "colab_type": "text",
        "id": "wssHQ1oGymwe"
      },
      "source": [
        "Имея последовательность символов, какой наиболее вероятный следующий символ? Это задача, для которой мы будем оптимизировать наш алгоритм. На ввод в модель будет подаваться последовательность символов и модель будет на каждом шаге возвращать следующий за этой последовательностью символ."
      ]
    },
    {
      "cell_type": "markdown",
      "metadata": {
        "colab_type": "text",
        "id": "hgsVvVxnymwf"
      },
      "source": [
        "### Создание тренировочных примеров и целей\n",
        "\n",
        "Next divide the text into example sequences. Each input sequence will contain `seq_length` characters from the text.\n",
        "\n",
        "For each input sequence, the corresponding targets contain the same length of text, except shifted one character to the right.\n",
        "\n",
        "So break the text into chunks of `seq_length+1`. For example, say `seq_length` is 4 and our text is \"Hello\". The input sequence would be \"Hell\", and the target sequence \"ello\".\n",
        "\n",
        "To do this first use the `tf.data.Dataset.from_tensor_slices` function to convert the text vector into a stream of character indices."
      ]
    },
    {
      "cell_type": "code",
      "metadata": {
        "colab_type": "code",
        "id": "0UHJDA39zf-O",
        "outputId": "7da2e584-383c-460f-d7b4-ee27ff8da872",
        "colab": {
          "base_uri": "https://localhost:8080/",
          "height": 102
        }
      },
      "source": [
        "# The maximum length sentence we want for a single input in characters\n",
        "seq_length = 200\n",
        "examples_per_epoch = len(text)//(seq_length+1)\n",
        "\n",
        "# Create training examples / targets\n",
        "char_dataset = tf.data.Dataset.from_tensor_slices(text_as_int)\n",
        "\n",
        "for i in char_dataset.take(5):\n",
        "  print(idx2char[i.numpy()])"
      ],
      "execution_count": 13,
      "outputs": [
        {
          "output_type": "stream",
          "text": [
            "П\n",
            "Л\n",
            "А\n",
            "Н\n",
            "И\n"
          ],
          "name": "stdout"
        }
      ]
    },
    {
      "cell_type": "markdown",
      "metadata": {
        "colab_type": "text",
        "id": "-ZSYAcQV8OGP"
      },
      "source": [
        "The `batch` method lets us easily convert these individual characters to sequences of the desired size."
      ]
    },
    {
      "cell_type": "code",
      "metadata": {
        "colab_type": "code",
        "id": "l4hkDU3i7ozi",
        "outputId": "92a13d78-cea4-4178-8f38-be95e613a1c2",
        "colab": {
          "base_uri": "https://localhost:8080/",
          "height": 122
        }
      },
      "source": [
        "sequences = char_dataset.batch(seq_length+1, drop_remainder=True)\n",
        "\n",
        "for item in sequences.take(5):\n",
        "  print(repr(''.join(idx2char[item.numpy()])))"
      ],
      "execution_count": 14,
      "outputs": [
        {
          "output_type": "stream",
          "text": [
            "'ПЛАНИРУЕТЕ СТОЛ НА НГ \\r\\n\\r@\\n\\rНЕТ ТЫ ЧТО, ЭТОГО МАЛО БУДЕТ, ДАВАЙ ЕЩЕ САЛАТОВ И ГОРЯЧЕГО \\r\\n\\r@\\n\\r2 ЯНВАРЯ \\r\\n\\r@\\n\\rВЕСЬ СТОЛ СТОИТ ПРАКТИЧЕСКИ ЦЕЛЫЙ, СЪЕДЕНО ОТ СИЛЫ ДВА САЛАТА И ТРЕТЬ ГОРЯЧЕГО \\r\\n\\r@\\n\\r3 ЯНВАРЯ'\n",
            "' \\r\\n\\r@\\n\\rКАЖЕТСЯ У ПОМОЙНЫХ КОТОВ СЕГОДНЯ БУДЕТ ПИР \\r\\n\\r@\\n\\rЭТО ТОЛЬКО КАЖЕТСЯ \\r\\n\\r@\\n\\r4 ЯНВАРЯ \\r\\n\\r@\\n\\rСАЛАТНОЕ МЕНЮ НА ЗАВТРАК, ОБЕД И УЖИН \\r\\n\\r@\\n\\r5 ЯНВАРЯ \\r\\n\\r@\\n\\r6 ЯНВАРЯ \\r\\n\\r@\\n\\rВЕЧЕРОМ ТОГО ЖЕ ДНЯ \\r\\n\\r@\\n\\rВТОРО'\n",
            "'Й ДЕНЬ ПОДРЯД В АВТОБУСЕ ПОПАДАЕТСЯ СЧАСТЛИВЫЙ БИЛЕТИК \\r\\n\\r@\\n\\rНО НИЧЕГО НЕ ПРОИСХОДИТ \\r\\n\\r@\\n\\rТРЕТИЙ ДЕНЬ ПОДРЯД ПОПАДАЕТСЯ СЧАСТЛИВЫЙ БИЛЕТИК \\r\\n\\r@\\n\\rПОТЕРЯЛ НАУШНИКИ\\r\\n\\r@\\n\\rНАЗЫВАЕТ СЕБЯ ЛИБЕРАЛОМ \\r\\n\\r@\\n\\rЗНА'\n",
            "'ЧИТЕЛЬНАЯ ЧАСТЬ ПРОГРАММЫ - ВСЯЧЕСКИЕ ОГРАНИЧЕНИЯ ДЛЯ МИГРАНТОВ\\r\\n\\r@\\n\\rПОМОГ ЕОТОВОЙ ПОДНЯТЬ УПАВШУЮ РУЧКУ \\r\\n\\r@\\n\\r\"ПИЗДОЛИЗ, ПОДКАБЛУЧНИК\" \\r\\n\\r@\\n\\rЕРОХИН ОТКРОВЕННО ЛЬСТИТ ЕЙ, ИСПОЛНЯЕТ КАКИЕ-ТО ТУПЫЕ ПОРУЧ'\n",
            "'ЕНИЯ \\r\\n\\r@\\n\\r\"МОЛОДЕЦ, ВАНЬКА, НАСТОЯЩИЙ МУЖИК\"\\r\\n\\r@\\n\\rПОВЗРОСЛЕЛ \\r\\n\\r@\\n\\rПОНЯЛ, ЧТО ПРЕВРАТИЛСЯ В ТОГО, КЕМ ВСЕГДА НЕ ХОТЕЛ БЫТЬ\\r\\n\\r@\\n\\rЗАБАНИЛ ШКОЛЬНИКА ПО ПРИЧИНЕ \"ФЛУД\" \\r\\n\\r@\\n\\rСТУЧИТ В ЛС С КРИКАМИ \"ЧЕ ЭТО '\n"
          ],
          "name": "stdout"
        }
      ]
    },
    {
      "cell_type": "markdown",
      "metadata": {
        "colab_type": "text",
        "id": "UbLcIPBj_mWZ"
      },
      "source": [
        "For each sequence, duplicate and shift it to form the input and target text by using the `map` method to apply a simple function to each batch:"
      ]
    },
    {
      "cell_type": "code",
      "metadata": {
        "colab_type": "code",
        "id": "9NGu-FkO_kYU",
        "colab": {}
      },
      "source": [
        "def split_input_target(chunk):\n",
        "    input_text = chunk[:-1]\n",
        "    target_text = chunk[1:]\n",
        "    return input_text, target_text\n",
        "\n",
        "dataset = sequences.map(split_input_target)"
      ],
      "execution_count": 0,
      "outputs": []
    },
    {
      "cell_type": "markdown",
      "metadata": {
        "colab_type": "text",
        "id": "hiCopyGZymwi"
      },
      "source": [
        "Print the first examples input and target values:"
      ]
    },
    {
      "cell_type": "code",
      "metadata": {
        "colab_type": "code",
        "id": "GNbw-iR0ymwj",
        "outputId": "ee4763ea-e40a-440b-a862-9eea49311201",
        "colab": {
          "base_uri": "https://localhost:8080/",
          "height": 71
        }
      },
      "source": [
        "for input_example, target_example in  dataset.take(1):\n",
        "  print ('Input data: ', repr(''.join(idx2char[input_example.numpy()])))\n",
        "  print ('Target data:', repr(''.join(idx2char[target_example.numpy()])))"
      ],
      "execution_count": 16,
      "outputs": [
        {
          "output_type": "stream",
          "text": [
            "Input data:  'ПЛАНИРУЕТЕ СТОЛ НА НГ \\r\\n\\r@\\n\\rНЕТ ТЫ ЧТО, ЭТОГО МАЛО БУДЕТ, ДАВАЙ ЕЩЕ САЛАТОВ И ГОРЯЧЕГО \\r\\n\\r@\\n\\r2 ЯНВАРЯ \\r\\n\\r@\\n\\rВЕСЬ СТОЛ СТОИТ ПРАКТИЧЕСКИ ЦЕЛЫЙ, СЪЕДЕНО ОТ СИЛЫ ДВА САЛАТА И ТРЕТЬ ГОРЯЧЕГО \\r\\n\\r@\\n\\r3 ЯНВАР'\n",
            "Target data: 'ЛАНИРУЕТЕ СТОЛ НА НГ \\r\\n\\r@\\n\\rНЕТ ТЫ ЧТО, ЭТОГО МАЛО БУДЕТ, ДАВАЙ ЕЩЕ САЛАТОВ И ГОРЯЧЕГО \\r\\n\\r@\\n\\r2 ЯНВАРЯ \\r\\n\\r@\\n\\rВЕСЬ СТОЛ СТОИТ ПРАКТИЧЕСКИ ЦЕЛЫЙ, СЪЕДЕНО ОТ СИЛЫ ДВА САЛАТА И ТРЕТЬ ГОРЯЧЕГО \\r\\n\\r@\\n\\r3 ЯНВАРЯ'\n"
          ],
          "name": "stdout"
        }
      ]
    },
    {
      "cell_type": "markdown",
      "metadata": {
        "colab_type": "text",
        "id": "_33OHL3b84i0"
      },
      "source": [
        "Each index of these vectors are processed as one time step. For the input at time step 0, the model receives the index for \"F\" and trys to predict the index for \"i\" as the next character. At the next timestep, it does the same thing but the `RNN` considers the previous step context in addition to the current input character."
      ]
    },
    {
      "cell_type": "code",
      "metadata": {
        "colab_type": "code",
        "id": "0eBu9WZG84i0",
        "outputId": "5c3a3c50-422f-485e-f06e-b823cdefee15",
        "colab": {
          "base_uri": "https://localhost:8080/",
          "height": 272
        }
      },
      "source": [
        "for i, (input_idx, target_idx) in enumerate(zip(input_example[:5], target_example[:5])):\n",
        "    print(\"Step {:4d}\".format(i))\n",
        "    print(\"  input: {} ({:s})\".format(input_idx, repr(idx2char[input_idx])))\n",
        "    print(\"  expected output: {} ({:s})\".format(target_idx, repr(idx2char[target_idx])))"
      ],
      "execution_count": 17,
      "outputs": [
        {
          "output_type": "stream",
          "text": [
            "Step    0\n",
            "  input: 161 ('П')\n",
            "  expected output: 157 ('Л')\n",
            "Step    1\n",
            "  input: 157 ('Л')\n",
            "  expected output: 146 ('А')\n",
            "Step    2\n",
            "  input: 146 ('А')\n",
            "  expected output: 159 ('Н')\n",
            "Step    3\n",
            "  input: 159 ('Н')\n",
            "  expected output: 154 ('И')\n",
            "Step    4\n",
            "  input: 154 ('И')\n",
            "  expected output: 162 ('Р')\n"
          ],
          "name": "stdout"
        }
      ]
    },
    {
      "cell_type": "markdown",
      "metadata": {
        "colab_type": "text",
        "id": "MJdfPmdqzf-R"
      },
      "source": [
        "### Создание тренировочных пакетов (batch)\n",
        "\n",
        "We used `tf.data` to split the text into manageable sequences. But before feeding this data into the model, we need to shuffle the data and pack it into batches."
      ]
    },
    {
      "cell_type": "code",
      "metadata": {
        "colab_type": "code",
        "id": "p2pGotuNzf-S",
        "outputId": "f1058f2a-647a-4187-d1ee-9d8993a934bf",
        "colab": {
          "base_uri": "https://localhost:8080/",
          "height": 34
        }
      },
      "source": [
        "# Batch size\n",
        "BATCH_SIZE = 64\n",
        "\n",
        "# Buffer size to shuffle the dataset\n",
        "# (TF data is designed to work with possibly infinite sequences,\n",
        "# so it doesn't attempt to shuffle the entire sequence in memory. Instead,\n",
        "# it maintains a buffer in which it shuffles elements).\n",
        "BUFFER_SIZE = 10000\n",
        "\n",
        "dataset = dataset.shuffle(BUFFER_SIZE).batch(BATCH_SIZE, drop_remainder=True)\n",
        "\n",
        "dataset"
      ],
      "execution_count": 18,
      "outputs": [
        {
          "output_type": "execute_result",
          "data": {
            "text/plain": [
              "<BatchDataset shapes: ((64, 200), (64, 200)), types: (tf.int64, tf.int64)>"
            ]
          },
          "metadata": {
            "tags": []
          },
          "execution_count": 18
        }
      ]
    },
    {
      "cell_type": "markdown",
      "metadata": {
        "colab_type": "text",
        "id": "r6oUuElIMgVx"
      },
      "source": [
        "## Построение модели"
      ]
    },
    {
      "cell_type": "markdown",
      "metadata": {
        "colab_type": "text",
        "id": "m8gPwEjRzf-Z"
      },
      "source": [
        "Use `tf.keras.Sequential` to define the model. For this simple example three layers are used to define our model:\n",
        "\n",
        "* `tf.keras.layers.Embedding`: The input layer. A trainable lookup table that will map the numbers of each character to a vector with `embedding_dim` dimensions;\n",
        "* `tf.keras.layers.GRU`: A type of RNN with size `units=rnn_units` (You can also use a LSTM layer here.)\n",
        "* `tf.keras.layers.Dense`: The output layer, with `vocab_size` outputs."
      ]
    },
    {
      "cell_type": "code",
      "metadata": {
        "colab_type": "code",
        "id": "zHT8cLh7EAsg",
        "colab": {}
      },
      "source": [
        "# Length of the vocabulary in chars\n",
        "vocab_size = len(vocab)\n",
        "\n",
        "# The embedding dimension\n",
        "embedding_dim = 256\n",
        "\n",
        "# Number of RNN units\n",
        "rnn_units = 1024"
      ],
      "execution_count": 0,
      "outputs": []
    },
    {
      "cell_type": "code",
      "metadata": {
        "id": "QiQHZdjRNc_B",
        "colab_type": "code",
        "colab": {}
      },
      "source": [
        "# #Базовая и самая простая модель для генерации текстов. \n",
        "# #Сейчас закомментирована в пользу более эффективных моделей (см. ниже)\n",
        "\n",
        "# def build_model(vocab_size, embedding_dim, rnn_units, batch_size):\n",
        "#   model = tf.keras.Sequential([\n",
        "#     tf.keras.layers.Embedding(vocab_size, embedding_dim,\n",
        "#                               batch_input_shape=[batch_size, None]),\n",
        "#     tf.keras.layers.GRU(rnn_units,\n",
        "#                         return_sequences=True,\n",
        "#                         stateful=True,\n",
        "#                         recurrent_initializer='glorot_uniform'),\n",
        "#     tf.keras.layers.Dense(vocab_size)\n",
        "#   ])\n",
        "#   return model"
      ],
      "execution_count": 0,
      "outputs": []
    },
    {
      "cell_type": "code",
      "metadata": {
        "id": "Ovlo4W6Q-jpz",
        "colab_type": "code",
        "colab": {}
      },
      "source": [
        "# Возможно лучшая модель для генерации. \n",
        "# Достаточно простая чтобы быстро обучаться, но достаточно эффективная для генерации связанного текста\n",
        "\n",
        "MODEL_VERSION = 0.03\n",
        "\n",
        "def build_model(vocab_size, embedding_dim, rnn_units, batch_size):\n",
        "  model = tf.keras.Sequential([\n",
        "    # embedding layer\n",
        "    tf.keras.layers.Embedding(vocab_size, embedding_dim,\n",
        "                              batch_input_shape=[batch_size, None]),\n",
        "    # GRU layer\n",
        "    tf.keras.layers.LSTM(rnn_units,\n",
        "                        return_sequences=True,\n",
        "                        stateful=True,\n",
        "                        recurrent_initializer='glorot_uniform'),\n",
        "    \n",
        "    # dropout layer\n",
        "    tf.keras.layers.Dropout(0.4),\n",
        "    \n",
        "    # GRU layer\n",
        "    tf.keras.layers.LSTM(rnn_units,\n",
        "                        return_sequences=True,\n",
        "                        stateful=True,\n",
        "                        recurrent_initializer='glorot_uniform'),\n",
        "    # dense layer\n",
        "    tf.keras.layers.Dense(vocab_size)\n",
        "  ])\n",
        "  return model"
      ],
      "execution_count": 0,
      "outputs": []
    },
    {
      "cell_type": "markdown",
      "metadata": {
        "id": "Y4zfnF570QtJ",
        "colab_type": "text"
      },
      "source": [
        "# Билд модели"
      ]
    },
    {
      "cell_type": "code",
      "metadata": {
        "colab_type": "code",
        "id": "wwsrpOik5zhv",
        "colab": {}
      },
      "source": [
        "model = build_model(\n",
        "  vocab_size = len(vocab),\n",
        "  embedding_dim=embedding_dim,\n",
        "  rnn_units=rnn_units,\n",
        "  batch_size=BATCH_SIZE)"
      ],
      "execution_count": 0,
      "outputs": []
    },
    {
      "cell_type": "markdown",
      "metadata": {
        "colab_type": "text",
        "id": "RkA5upJIJ7W7"
      },
      "source": [
        "For each character the model looks up the embedding, runs the GRU (or LSTM) one timestep with the embedding as input, and applies the dense layer to generate logits predicting the log-likelihood of the next character:\n",
        "\n",
        "![A drawing of the data passing through the model](https://github.com/tensorflow/docs/blob/master/site/en/tutorials/text/images/text_generation_training.png?raw=1)"
      ]
    },
    {
      "cell_type": "markdown",
      "metadata": {
        "colab_type": "text",
        "id": "-ubPo0_9Prjb"
      },
      "source": [
        "## Try the model\n",
        "\n",
        "Now run the model to see that it behaves as expected.\n",
        "\n",
        "First check the shape of the output:"
      ]
    },
    {
      "cell_type": "code",
      "metadata": {
        "colab_type": "code",
        "id": "C-_70kKAPrPU",
        "outputId": "5155843c-ceb6-4460-819f-d4ca8239d455",
        "colab": {
          "base_uri": "https://localhost:8080/",
          "height": 34
        }
      },
      "source": [
        "for input_example_batch, target_example_batch in dataset.take(1):\n",
        "  example_batch_predictions = model(input_example_batch)\n",
        "  print(example_batch_predictions.shape, \"# (batch_size, sequence_length, vocab_size)\")"
      ],
      "execution_count": 23,
      "outputs": [
        {
          "output_type": "stream",
          "text": [
            "(64, 200, 391) # (batch_size, sequence_length, vocab_size)\n"
          ],
          "name": "stdout"
        }
      ]
    },
    {
      "cell_type": "markdown",
      "metadata": {
        "colab_type": "text",
        "id": "Q6NzLBi4VM4o"
      },
      "source": [
        "In the above example the sequence length of the input is `100` but the model can be run on inputs of any length:"
      ]
    },
    {
      "cell_type": "code",
      "metadata": {
        "colab_type": "code",
        "id": "vPGmAAXmVLGC",
        "outputId": "c0f2f068-eacb-4d37-e25d-31caa1cf2afa",
        "colab": {
          "base_uri": "https://localhost:8080/",
          "height": 323
        }
      },
      "source": [
        "model.summary()"
      ],
      "execution_count": 24,
      "outputs": [
        {
          "output_type": "stream",
          "text": [
            "Model: \"sequential\"\n",
            "_________________________________________________________________\n",
            "Layer (type)                 Output Shape              Param #   \n",
            "=================================================================\n",
            "embedding (Embedding)        (64, None, 256)           100096    \n",
            "_________________________________________________________________\n",
            "lstm (LSTM)                  (64, None, 1024)          5246976   \n",
            "_________________________________________________________________\n",
            "dropout (Dropout)            (64, None, 1024)          0         \n",
            "_________________________________________________________________\n",
            "lstm_1 (LSTM)                (64, None, 1024)          8392704   \n",
            "_________________________________________________________________\n",
            "dense (Dense)                (64, None, 391)           400775    \n",
            "=================================================================\n",
            "Total params: 14,140,551\n",
            "Trainable params: 14,140,551\n",
            "Non-trainable params: 0\n",
            "_________________________________________________________________\n"
          ],
          "name": "stdout"
        }
      ]
    },
    {
      "cell_type": "markdown",
      "metadata": {
        "colab_type": "text",
        "id": "uwv0gEkURfx1"
      },
      "source": [
        "To get actual predictions from the model we need to sample from the output distribution, to get actual character indices. This distribution is defined by the logits over the character vocabulary.\n",
        "\n",
        "Note: It is important to _sample_ from this distribution as taking the _argmax_ of the distribution can easily get the model stuck in a loop.\n",
        "\n",
        "Try it for the first example in the batch:"
      ]
    },
    {
      "cell_type": "code",
      "metadata": {
        "colab_type": "code",
        "id": "4V4MfFg0RQJg",
        "colab": {}
      },
      "source": [
        "sampled_indices = tf.random.categorical(example_batch_predictions[0], num_samples=1)\n",
        "sampled_indices = tf.squeeze(sampled_indices,axis=-1).numpy()"
      ],
      "execution_count": 0,
      "outputs": []
    },
    {
      "cell_type": "markdown",
      "metadata": {
        "colab_type": "text",
        "id": "QM1Vbxs_URw5"
      },
      "source": [
        "This gives us, at each timestep, a prediction of the next character index:"
      ]
    },
    {
      "cell_type": "code",
      "metadata": {
        "colab_type": "code",
        "id": "YqFMUQc_UFgM",
        "outputId": "2c93437d-860a-4b0e-9bf7-d88e267316ba",
        "colab": {
          "base_uri": "https://localhost:8080/",
          "height": 289
        }
      },
      "source": [
        "sampled_indices"
      ],
      "execution_count": 26,
      "outputs": [
        {
          "output_type": "execute_result",
          "data": {
            "text/plain": [
              "array([330, 144,  45, 283, 100,  62,  24, 251,  88, 102,  82, 232, 347,\n",
              "       382, 380,  29, 181,   4,  73, 307, 216, 253,  27, 172, 125, 303,\n",
              "       355,  39, 339,  54, 139, 138, 383, 163, 247,  58, 205,  93, 214,\n",
              "       296, 276,  16, 107, 116,  20, 357,  87, 327,  56, 134, 154, 227,\n",
              "       252, 358, 181, 218,  83, 214, 274,  48, 294, 383, 155, 354, 344,\n",
              "       152, 345, 197, 101, 105,  23, 112, 340, 224, 194, 313,  92, 133,\n",
              "       345, 152,  75, 156, 267, 385,  50,  20, 366,  61,  30, 346, 140,\n",
              "       355,  33,  78, 148, 186, 384, 362,  87, 195, 178, 240,  81, 137,\n",
              "       320, 168, 364,  22, 172, 339, 325, 266,   1, 336,  90, 328,  65,\n",
              "       122, 251, 179, 313,  92, 220, 131, 162, 247, 175, 183, 345,  62,\n",
              "        37, 275,  29, 229,  43, 339,  25, 295,  34,  68, 223, 115, 248,\n",
              "        50, 250, 381, 122,  51,  25, 250, 341, 142, 123, 241, 259, 385,\n",
              "       107, 147, 264,  85,  76, 166, 244, 171, 282, 316,  88, 277, 385,\n",
              "       287, 389, 336, 113, 333, 118, 365, 267,  57, 331, 158, 197, 172,\n",
              "       232, 328, 193,  98, 148,  17, 353, 193, 204, 132, 158, 358, 374,\n",
              "       341, 163,  89, 183, 157])"
            ]
          },
          "metadata": {
            "tags": []
          },
          "execution_count": 26
        }
      ]
    },
    {
      "cell_type": "markdown",
      "metadata": {
        "colab_type": "text",
        "id": "LfLtsP3mUhCG"
      },
      "source": [
        "Decode these to see the text predicted by this untrained model:"
      ]
    },
    {
      "cell_type": "markdown",
      "metadata": {
        "id": "nEKR0ReW0lCo",
        "colab_type": "text"
      },
      "source": [
        "## Посмотрим, что возвращает модель ещё не будучи обученной"
      ]
    },
    {
      "cell_type": "code",
      "metadata": {
        "colab_type": "code",
        "id": "xWcFwPwLSo05",
        "outputId": "0d0369a9-16d2-4833-f771-3debededf346",
        "colab": {
          "base_uri": "https://localhost:8080/",
          "height": 122
        }
      },
      "source": [
        "print(\"Input: \\n\", repr(\"\".join(idx2char[input_example_batch[0]])))\n",
        "print()\n",
        "print(\"Next Char Predictions: \\n\", repr(\"\".join(idx2char[sampled_indices ])))"
      ],
      "execution_count": 27,
      "outputs": [
        {
          "output_type": "stream",
          "text": [
            "Input: \n",
            " 'Л САБАТОН \\r\\n\\r@\\n\\rТЕПЕРЬ ТЫ И КАССИРША - БЕЙСБОЛЬНАЯ КОМАНДА \\r\\n\\r@\\n\\rТЫ СТОИШЬ НА ПЕРВОЙ БАЗЕ, МАСТЕРСКИ ПРИНИМАЯ ВСЕ ПОДАЧИ ОТ ПИТЧЕРА \\r\\n\\r@\\n\\rДАЖЕ НЕБО, ДАЖЕ УПРАВЛЯЮЩИЙ ПОРАЖАЮТСЯ ВАШЕЙ СЛАЖЕННОЙ РАБОТЕ '\n",
            "\n",
            "Next Char Predictions: \n",
            " 'をІM„°^6حx¿rכヽ💬💥;г\"i、Ѥد9Ъ̫✓気GヒVλδ🔥СاZы}Ѣ▆ყ.ÓĐ2画wまX͡Иזخ腹гѪsѢ༼P▃🔥Й対ロЖ・у»É5õペבрき|͜・ЖkКن😆R2！]=ーξ気AnВи😃開wсаפqβそЦ鹿4Ъヒのم\\rデzもa̠حбき|҉͗РاЭе・^E༽;טKヒ7▅BdאýبRت💩̠S7تポЁ̤קض😆ÓБكulФתЩ”ざx\\u2002😆℅😡デöシ̆ﻉنYんМуЪכもп«В/国пъ͚М腹👈ポСyеЛ'\n"
          ],
          "name": "stdout"
        }
      ]
    },
    {
      "cell_type": "markdown",
      "metadata": {
        "colab_type": "text",
        "id": "LJL0Q0YPY6Ee"
      },
      "source": [
        "## Обучим получившуюся модель"
      ]
    },
    {
      "cell_type": "markdown",
      "metadata": {
        "colab_type": "text",
        "id": "YCbHQHiaa4Ic"
      },
      "source": [
        "At this point the problem can be treated as a standard classification problem. Given the previous RNN state, and the input this time step, predict the class of the next character."
      ]
    },
    {
      "cell_type": "markdown",
      "metadata": {
        "colab_type": "text",
        "id": "trpqTWyvk0nr"
      },
      "source": [
        "### Добавим функцию оптимизации (optimizer) и функцию потерь (loss function)"
      ]
    },
    {
      "cell_type": "markdown",
      "metadata": {
        "colab_type": "text",
        "id": "UAjbjY03eiQ4"
      },
      "source": [
        "The standard `tf.keras.losses.sparse_categorical_crossentropy` loss function works in this case because it is applied across the last dimension of the predictions.\n",
        "\n",
        "Because our model returns logits, we need to set the `from_logits` flag.\n"
      ]
    },
    {
      "cell_type": "code",
      "metadata": {
        "colab_type": "code",
        "id": "4HrXTACTdzY-",
        "outputId": "c81c543b-f45d-4e34-8193-a50a149c187e",
        "colab": {
          "base_uri": "https://localhost:8080/",
          "height": 51
        }
      },
      "source": [
        "def loss(labels, logits):\n",
        "  return tf.keras.losses.sparse_categorical_crossentropy(labels, logits, from_logits=True)\n",
        "\n",
        "example_batch_loss  = loss(target_example_batch, example_batch_predictions)\n",
        "print(\"Prediction shape: \", example_batch_predictions.shape, \" # (batch_size, sequence_length, vocab_size)\")\n",
        "print(\"scalar_loss:      \", example_batch_loss.numpy().mean())"
      ],
      "execution_count": 28,
      "outputs": [
        {
          "output_type": "stream",
          "text": [
            "Prediction shape:  (64, 200, 391)  # (batch_size, sequence_length, vocab_size)\n",
            "scalar_loss:       5.9686337\n"
          ],
          "name": "stdout"
        }
      ]
    },
    {
      "cell_type": "markdown",
      "metadata": {
        "colab_type": "text",
        "id": "jeOXriLcymww"
      },
      "source": [
        "Configure the training procedure using the `tf.keras.Model.compile` method. We'll use `tf.keras.optimizers.Adam` with default arguments and the loss function."
      ]
    },
    {
      "cell_type": "code",
      "metadata": {
        "colab_type": "code",
        "id": "DDl1_Een6rL0",
        "colab": {}
      },
      "source": [
        "model.compile(optimizer='adam', loss=loss)"
      ],
      "execution_count": 0,
      "outputs": []
    },
    {
      "cell_type": "markdown",
      "metadata": {
        "colab_type": "text",
        "id": "ieSJdchZggUj"
      },
      "source": [
        "### Configure checkpoints"
      ]
    },
    {
      "cell_type": "markdown",
      "metadata": {
        "colab_type": "text",
        "id": "C6XBUUavgF56"
      },
      "source": [
        "Use a `tf.keras.callbacks.ModelCheckpoint` to ensure that checkpoints are saved during training:"
      ]
    },
    {
      "cell_type": "code",
      "metadata": {
        "colab_type": "code",
        "id": "W6fWTriUZP-n",
        "colab": {}
      },
      "source": [
        "# Directory where the checkpoints will be saved\n",
        "checkpoint_dir = './training_checkpoints'\n",
        "# Name of the checkpoint files\n",
        "checkpoint_prefix = os.path.join(checkpoint_dir, \"ckpt_{epoch}\")\n",
        "\n",
        "checkpoint_callback=tf.keras.callbacks.ModelCheckpoint(\n",
        "    filepath=checkpoint_prefix,\n",
        "    save_weights_only=True)"
      ],
      "execution_count": 0,
      "outputs": []
    },
    {
      "cell_type": "markdown",
      "metadata": {
        "colab_type": "text",
        "id": "3Ky3F_BhgkTW"
      },
      "source": [
        "### Выполнение обучения"
      ]
    },
    {
      "cell_type": "markdown",
      "metadata": {
        "colab_type": "text",
        "id": "IxdOA-rgyGvs"
      },
      "source": [
        "To keep training time reasonable, use 10 to 30  epochs to train the model. In Colab, set the runtime to GPU for faster training."
      ]
    },
    {
      "cell_type": "code",
      "metadata": {
        "id": "Iw6uzC8-D539",
        "colab_type": "code",
        "colab": {}
      },
      "source": [
        "EPOCHS = 25"
      ],
      "execution_count": 0,
      "outputs": []
    },
    {
      "cell_type": "code",
      "metadata": {
        "colab_type": "code",
        "id": "UK-hmKjYVoll",
        "outputId": "0f3f39ee-c5dc-4554-c139-65b11611a011",
        "colab": {
          "base_uri": "https://localhost:8080/",
          "height": 867
        }
      },
      "source": [
        "history = model.fit(dataset, epochs=EPOCHS, callbacks=[checkpoint_callback])"
      ],
      "execution_count": 32,
      "outputs": [
        {
          "output_type": "stream",
          "text": [
            "Epoch 1/25\n",
            "241/241 [==============================] - 57s 237ms/step - loss: 2.8706\n",
            "Epoch 2/25\n",
            "241/241 [==============================] - 57s 236ms/step - loss: 2.0900\n",
            "Epoch 3/25\n",
            "241/241 [==============================] - 57s 238ms/step - loss: 1.8046\n",
            "Epoch 4/25\n",
            "241/241 [==============================] - 58s 239ms/step - loss: 1.6526\n",
            "Epoch 5/25\n",
            "241/241 [==============================] - 57s 237ms/step - loss: 1.5661\n",
            "Epoch 6/25\n",
            "241/241 [==============================] - 57s 237ms/step - loss: 1.5088\n",
            "Epoch 7/25\n",
            "241/241 [==============================] - 57s 237ms/step - loss: 1.4662\n",
            "Epoch 8/25\n",
            "241/241 [==============================] - 57s 237ms/step - loss: 1.4322\n",
            "Epoch 9/25\n",
            "241/241 [==============================] - 57s 237ms/step - loss: 1.4033\n",
            "Epoch 10/25\n",
            "241/241 [==============================] - 57s 238ms/step - loss: 1.3793\n",
            "Epoch 11/25\n",
            "241/241 [==============================] - 58s 239ms/step - loss: 1.3568\n",
            "Epoch 12/25\n",
            "241/241 [==============================] - 57s 237ms/step - loss: 1.3379\n",
            "Epoch 13/25\n",
            "241/241 [==============================] - 57s 237ms/step - loss: 1.3195\n",
            "Epoch 14/25\n",
            "241/241 [==============================] - 57s 238ms/step - loss: 1.3033\n",
            "Epoch 15/25\n",
            "241/241 [==============================] - 57s 236ms/step - loss: 1.2870\n",
            "Epoch 16/25\n",
            "241/241 [==============================] - 57s 237ms/step - loss: 1.2730\n",
            "Epoch 17/25\n",
            "241/241 [==============================] - 57s 238ms/step - loss: 1.2592\n",
            "Epoch 18/25\n",
            "241/241 [==============================] - 58s 239ms/step - loss: 1.2456\n",
            "Epoch 19/25\n",
            "241/241 [==============================] - 57s 237ms/step - loss: 1.2333\n",
            "Epoch 20/25\n",
            "241/241 [==============================] - 57s 238ms/step - loss: 1.2215\n",
            "Epoch 21/25\n",
            "241/241 [==============================] - 57s 237ms/step - loss: 1.2108\n",
            "Epoch 22/25\n",
            "241/241 [==============================] - 57s 236ms/step - loss: 1.1990\n",
            "Epoch 23/25\n",
            "241/241 [==============================] - 57s 237ms/step - loss: 1.1889\n",
            "Epoch 24/25\n",
            "241/241 [==============================] - 57s 238ms/step - loss: 1.1783\n",
            "Epoch 25/25\n",
            "241/241 [==============================] - 57s 238ms/step - loss: 1.1691\n"
          ],
          "name": "stdout"
        }
      ]
    },
    {
      "cell_type": "markdown",
      "metadata": {
        "colab_type": "text",
        "id": "kKkD5M6eoSiN"
      },
      "source": [
        "## Теперь, когда модель обучена, можно попробовать сгенерировать новый текст"
      ]
    },
    {
      "cell_type": "markdown",
      "metadata": {
        "colab_type": "text",
        "id": "JIPcXllKjkdr"
      },
      "source": [
        "### Restore the latest checkpoint"
      ]
    },
    {
      "cell_type": "markdown",
      "metadata": {
        "colab_type": "text",
        "id": "LyeYRiuVjodY"
      },
      "source": [
        "To keep this prediction step simple, use a batch size of 1.\n",
        "\n",
        "Because of the way the RNN state is passed from timestep to timestep, the model only accepts a fixed batch size once built.\n",
        "\n",
        "To run the model with a different `batch_size`, we need to rebuild the model and restore the weights from the checkpoint.\n"
      ]
    },
    {
      "cell_type": "code",
      "metadata": {
        "colab_type": "code",
        "id": "zk2WJ2-XjkGz",
        "colab": {}
      },
      "source": [
        "tf.train.latest_checkpoint(checkpoint_dir)\n",
        "model = build_model(vocab_size, embedding_dim, rnn_units, batch_size=1)\n",
        "model.load_weights(tf.train.latest_checkpoint(checkpoint_dir))\n",
        "model.build(tf.TensorShape([1, None]))"
      ],
      "execution_count": 0,
      "outputs": []
    },
    {
      "cell_type": "markdown",
      "metadata": {
        "colab_type": "text",
        "id": "DjGz1tDkzf-u"
      },
      "source": [
        "### The prediction loop\n",
        "\n",
        "The following code block generates the text:\n",
        "\n",
        "* It Starts by choosing a start string, initializing the RNN state and setting the number of characters to generate.\n",
        "\n",
        "* Get the prediction distribution of the next character using the start string and the RNN state.\n",
        "\n",
        "* Then, use a categorical distribution to calculate the index of the predicted character. Use this predicted character as our next input to the model.\n",
        "\n",
        "* The RNN state returned by the model is fed back into the model so that it now has more context, instead than only one character. After predicting the next character, the modified RNN states are again fed back into the model, which is how it learns as it gets more context from the previously predicted characters.\n",
        "\n",
        "\n",
        "![To generate text the model's output is fed back to the input](https://github.com/tensorflow/docs/blob/master/site/en/tutorials/text/images/text_generation_sampling.png?raw=1)\n",
        "\n",
        "Looking at the generated text, you'll see the model knows when to capitalize, make paragraphs and imitates a Shakespeare-like writing vocabulary. With the small number of training epochs, it has not yet learned to form coherent sentences."
      ]
    },
    {
      "cell_type": "code",
      "metadata": {
        "colab_type": "code",
        "id": "WvuwZBX5Ogfd",
        "colab": {}
      },
      "source": [
        "temperature = 0.47\n",
        "\n",
        "def generate_text(model, temperature, start_string):\n",
        "  # Evaluation step (generating text using the learned model)\n",
        "\n",
        "  # Number of characters to generate\n",
        "  num_generate = 250\n",
        "\n",
        "  # Converting our start string to numbers (vectorizing)\n",
        "  input_eval = [char2idx[s] for s in start_string]\n",
        "  input_eval = tf.expand_dims(input_eval, 0)\n",
        "\n",
        "  # Empty string to store our results\n",
        "  text_generated = []\n",
        "\n",
        "  # Low temperatures results in more predictable text.\n",
        "  # Higher temperatures results in more surprising text.\n",
        "  # Experiment to find the best setting.\n",
        "  temperature = temperature\n",
        "\n",
        "  # Here batch size == 1\n",
        "  model.reset_states()\n",
        "  for i in range(num_generate):\n",
        "      predictions = model(input_eval)\n",
        "      # remove the batch dimension\n",
        "      predictions = tf.squeeze(predictions, 0)\n",
        "\n",
        "      # using a categorical distribution to predict the character returned by the model\n",
        "      predictions = predictions / temperature\n",
        "      predicted_id = tf.random.categorical(predictions, num_samples=1)[-1,0].numpy()\n",
        "\n",
        "      # We pass the predicted character as the next input to the model\n",
        "      # along with the previous hidden state\n",
        "      input_eval = tf.expand_dims([predicted_id], 0)\n",
        "\n",
        "      text_generated.append(idx2char[predicted_id])\n",
        "\n",
        "  return (start_string + ''.join(text_generated))\n",
        "\n"
      ],
      "execution_count": 0,
      "outputs": []
    },
    {
      "cell_type": "markdown",
      "metadata": {
        "id": "SxZ0DODJksi2",
        "colab_type": "text"
      },
      "source": [
        "### Вызовем функцию генерации текста\n"
      ]
    },
    {
      "cell_type": "code",
      "metadata": {
        "id": "ewwnmZFFkj39",
        "colab_type": "code",
        "outputId": "9c88b99d-65f5-46f5-890a-8c1ade053a25",
        "colab": {
          "base_uri": "https://localhost:8080/",
          "height": 306
        }
      },
      "source": [
        "print(generate_text(model, temperature, start_string=u\"И ТУТ ТЁТЯ ЙОБА ГОВОРИТ: \"))"
      ],
      "execution_count": 40,
      "outputs": [
        {
          "output_type": "stream",
          "text": [
            "И ТУТ ТЁТЯ ЙОБА ГОВОРИТ: \r\n",
            "\r@\n",
            "\rА ТЫ И НЕ ПРОТИВ \r\n",
            "\r@\n",
            "\rЗАХОДИШЬ В МАГАЗИН, СЛЫШИШЬ ПАРУ СТРАНЫ \r\n",
            "\r@\n",
            "\rДАЖЕ НЕБО, ДАЖЕ АЛЛАХ ВОСХИЩАЮТСЯ ТВОЕЙ ЕОТ \r\n",
            "\r@\n",
            "\rПРИХОДИТ ДЕД ЗА ВСЕМ ЛЕТОМ \r\n",
            "\r@\n",
            "\rИ ВОТ НАСТАЛ ДИАЛОГ \r\n",
            "\r@\n",
            "\rНА СЛЕДУЮЩИЙ ДЕНЬ ПОД НИМ ПОЛУЧИЛОСЬ \r\n",
            "\r@\n",
            "\rЗАХОДИТ МАМКА \r\n",
            "\r@\n",
            "\rТЕБ\n"
          ],
          "name": "stdout"
        }
      ]
    },
    {
      "cell_type": "markdown",
      "metadata": {
        "id": "Hh_gKOE-kxdy",
        "colab_type": "text"
      },
      "source": [
        "## Теперь попробуем генерировать нейробургеры массово"
      ]
    },
    {
      "cell_type": "markdown",
      "metadata": {
        "id": "lgf6EunO2300",
        "colab_type": "text"
      },
      "source": [
        "#### Подключим наш гугл-диск (работает только в google colab): \n",
        "\n",
        "https://colab.research.google.com/drive/1Br_C4odVdH3AjBohKXSvfQ1kif79aHSd?usp=sharing"
      ]
    },
    {
      "cell_type": "code",
      "metadata": {
        "id": "FEUbMO_vyfzI",
        "colab_type": "code",
        "colab": {
          "base_uri": "https://localhost:8080/",
          "height": 34
        },
        "outputId": "6ff729c8-0f0d-4cd8-c652-70eada126fd1"
      },
      "source": [
        "from google.colab import drive\n",
        "drive.mount('/content/drive')"
      ],
      "execution_count": 36,
      "outputs": [
        {
          "output_type": "stream",
          "text": [
            "Drive already mounted at /content/drive; to attempt to forcibly remount, call drive.mount(\"/content/drive\", force_remount=True).\n"
          ],
          "name": "stdout"
        }
      ]
    },
    {
      "cell_type": "code",
      "metadata": {
        "colab_type": "code",
        "id": "ktovv0RFhrkn",
        "outputId": "6d0bb6ef-74fa-4c35-ca2c-806f6df0264d",
        "colab": {
          "base_uri": "https://localhost:8080/",
          "height": 102
        }
      },
      "source": [
        "count_of_burgers = 5 #count will be miltiplied by count of lines in bugstarts\n",
        "\n",
        "bugstarts = ('И ТУТ ТЁТЯ ЙОБА ГОВОРИТ: ', \n",
        "             'ВСТРЕЧАЕШЬСЯ С ТЯН ', \n",
        "             'АНИМЕ НА АВЕ ', \n",
        "             'СМОТРИШЬ НОВОСТИ О КОРОНАВИРУСЕ ', \n",
        "             'ЕОТОВА ЗНАКОМИТСЯ С ТВОИМ БАТЕЙ ')\n",
        "\n",
        "for i in range (count_of_burgers):\n",
        "  print(i+1, \" out of \", count_of_burgers)\n",
        "  for i in range(len(bugstarts)):\n",
        "    results = open('/content/drive/My Drive/Colab Notebooks/Results-26-04-2020-part2-bt.txt', 'a')\n",
        "    lines = (generate_text(model, temperature, start_string=bugstarts[i]), \"\\n\\n\", \"temperature: \", str(temperature), \"  EPOCHS: \", str(EPOCHS), \n",
        "             \" MODEL_VERSION: \", str(MODEL_VERSION), \" BATCH_SIZE: \", str(BATCH_SIZE), \n",
        "             \" BUFFER_SIZE: \", str(BUFFER_SIZE), \" embedding_dim: \", str(embedding_dim), \n",
        "             \" rnn_units: \", str(rnn_units), \" seq_length: \", str(seq_length), \"\\n\\n\\n\\n\\n\")\n",
        "    results.writelines(lines)\n",
        "    results.close()"
      ],
      "execution_count": 38,
      "outputs": [
        {
          "output_type": "stream",
          "text": [
            "1  out of  5\n",
            "2  out of  5\n",
            "3  out of  5\n",
            "4  out of  5\n",
            "5  out of  5\n"
          ],
          "name": "stdout"
        }
      ]
    },
    {
      "cell_type": "markdown",
      "metadata": {
        "colab_type": "text",
        "id": "AM2Uma_-yVIq"
      },
      "source": [
        "The easiest thing you can do to improve the results it to train it for longer (try `EPOCHS=30`).\n",
        "\n",
        "You can also experiment with a different start string, or try adding another RNN layer to improve the model's accuracy, or adjusting the temperature parameter to generate more or less random predictions."
      ]
    }
  ]
}